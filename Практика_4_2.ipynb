{
  "nbformat": 4,
  "nbformat_minor": 0,
  "metadata": {
    "colab": {
      "name": "Практика_4.2.ipynb",
      "provenance": [],
      "authorship_tag": "ABX9TyN54vl8ZEuX/TeuKJo9jBwI",
      "include_colab_link": true
    },
    "kernelspec": {
      "name": "python3",
      "display_name": "Python 3"
    }
  },
  "cells": [
    {
      "cell_type": "markdown",
      "metadata": {
        "id": "view-in-github",
        "colab_type": "text"
      },
      "source": [
        "<a href=\"https://colab.research.google.com/github/MKhromina/test_task/blob/main/%D0%9F%D1%80%D0%B0%D0%BA%D1%82%D0%B8%D0%BA%D0%B0_4_2.ipynb\" target=\"_parent\"><img src=\"https://colab.research.google.com/assets/colab-badge.svg\" alt=\"Open In Colab\"/></a>"
      ]
    },
    {
      "cell_type": "markdown",
      "metadata": {
        "id": "RhygjIACv8xu"
      },
      "source": [
        "Таблица некоторых синтетических данных, на основании которых необходимо выполнить классификацию нового объекта, с помощью метода -ближайших соседей"
      ]
    },
    {
      "cell_type": "code",
      "metadata": {
        "id": "Ni4vRHumi5SW"
      },
      "source": [
        "# подключение библиотек\n",
        "from google.colab import files\n",
        "import numpy as np\n",
        "import pandas as pd"
      ],
      "execution_count": null,
      "outputs": []
    },
    {
      "cell_type": "code",
      "metadata": {
        "id": "drtv_Q35vww2"
      },
      "source": [
        "data = pd.DataFrame({ 'X' : [39,68, 58, 15, 13, 16, 48, 21, 66, 61], 'Y' : [23, 16, 42, 55, 49, 18, 84, 30, 95, 45], 'Class' : [1, 0, 1, 0, 0, 0, 0, 1, 0, 1] })"
      ],
      "execution_count": null,
      "outputs": []
    },
    {
      "cell_type": "code",
      "metadata": {
        "colab": {
          "base_uri": "https://localhost:8080/",
          "height": 346
        },
        "id": "yYHZiVpSzzGs",
        "outputId": "3b8b1079-86b0-45f3-a898-24322438f1e4"
      },
      "source": [
        "data"
      ],
      "execution_count": null,
      "outputs": [
        {
          "output_type": "execute_result",
          "data": {
            "text/html": [
              "<div>\n",
              "<style scoped>\n",
              "    .dataframe tbody tr th:only-of-type {\n",
              "        vertical-align: middle;\n",
              "    }\n",
              "\n",
              "    .dataframe tbody tr th {\n",
              "        vertical-align: top;\n",
              "    }\n",
              "\n",
              "    .dataframe thead th {\n",
              "        text-align: right;\n",
              "    }\n",
              "</style>\n",
              "<table border=\"1\" class=\"dataframe\">\n",
              "  <thead>\n",
              "    <tr style=\"text-align: right;\">\n",
              "      <th></th>\n",
              "      <th>X</th>\n",
              "      <th>Y</th>\n",
              "      <th>Class</th>\n",
              "    </tr>\n",
              "  </thead>\n",
              "  <tbody>\n",
              "    <tr>\n",
              "      <th>0</th>\n",
              "      <td>39</td>\n",
              "      <td>23</td>\n",
              "      <td>1</td>\n",
              "    </tr>\n",
              "    <tr>\n",
              "      <th>1</th>\n",
              "      <td>68</td>\n",
              "      <td>16</td>\n",
              "      <td>0</td>\n",
              "    </tr>\n",
              "    <tr>\n",
              "      <th>2</th>\n",
              "      <td>58</td>\n",
              "      <td>42</td>\n",
              "      <td>1</td>\n",
              "    </tr>\n",
              "    <tr>\n",
              "      <th>3</th>\n",
              "      <td>15</td>\n",
              "      <td>55</td>\n",
              "      <td>0</td>\n",
              "    </tr>\n",
              "    <tr>\n",
              "      <th>4</th>\n",
              "      <td>13</td>\n",
              "      <td>49</td>\n",
              "      <td>0</td>\n",
              "    </tr>\n",
              "    <tr>\n",
              "      <th>5</th>\n",
              "      <td>16</td>\n",
              "      <td>18</td>\n",
              "      <td>0</td>\n",
              "    </tr>\n",
              "    <tr>\n",
              "      <th>6</th>\n",
              "      <td>48</td>\n",
              "      <td>84</td>\n",
              "      <td>0</td>\n",
              "    </tr>\n",
              "    <tr>\n",
              "      <th>7</th>\n",
              "      <td>21</td>\n",
              "      <td>30</td>\n",
              "      <td>1</td>\n",
              "    </tr>\n",
              "    <tr>\n",
              "      <th>8</th>\n",
              "      <td>66</td>\n",
              "      <td>95</td>\n",
              "      <td>0</td>\n",
              "    </tr>\n",
              "    <tr>\n",
              "      <th>9</th>\n",
              "      <td>61</td>\n",
              "      <td>45</td>\n",
              "      <td>1</td>\n",
              "    </tr>\n",
              "  </tbody>\n",
              "</table>\n",
              "</div>"
            ],
            "text/plain": [
              "    X   Y  Class\n",
              "0  39  23      1\n",
              "1  68  16      0\n",
              "2  58  42      1\n",
              "3  15  55      0\n",
              "4  13  49      0\n",
              "5  16  18      0\n",
              "6  48  84      0\n",
              "7  21  30      1\n",
              "8  66  95      0\n",
              "9  61  45      1"
            ]
          },
          "metadata": {
            "tags": []
          },
          "execution_count": 26
        }
      ]
    },
    {
      "cell_type": "markdown",
      "metadata": {
        "id": "VsdP7tB30JsW"
      },
      "source": [
        "Введите расстояние от нового объекта с координатами  до ближайшего соседа(67, 43), используя евклидову метрику.\n",
        "\n",
        "Введите идентификатры трех ближайших точек к  для евклидовой метрики.\n",
        "\n",
        "Введите класс для нового объекта с координатами  при  k=3 евклидовой метрике.\n",
        "\n",
        "Введите расстояние от нового объекта с координатами  до ближайшего соседа, используя метрику городских кварталов (Манхеттенское расстояние).\n",
        "\n",
        "Введите идентификатры трех ближайших точек к  для метрики городских кварталов\n",
        "\n",
        "Введите класс для нового объекта с координатами  при  и метрике городских кварталов."
      ]
    },
    {
      "cell_type": "code",
      "metadata": {
        "colab": {
          "base_uri": "https://localhost:8080/"
        },
        "id": "E0Wg39Mv0VGo",
        "outputId": "aa5ffe02-63e4-44fe-e913-6b3a3578763e"
      },
      "source": [
        "A=[67, 43]\n",
        "evkl=[]\n",
        "monh=[]\n",
        "for i in range(len(data.X)):\n",
        "  evkl.append(((data.X[i]-A[0])**2+(data.Y[i]-A[1])**2)**(1/2))\n",
        "  monh.append(abs(data.X[i]-A[0])+abs((data.Y[i]-A[1])))\n",
        "\n",
        "print(evkl)\n",
        "print(monh)"
      ],
      "execution_count": null,
      "outputs": [
        {
          "output_type": "stream",
          "text": [
            "[34.40930106817051, 27.018512172212592, 9.055385138137417, 53.36665625650534, 54.3323108288245, 56.79788728465171, 45.18849411078001, 47.80167361086848, 52.009614495783374, 6.324555320336759]\n",
            "[48, 28, 10, 64, 60, 76, 60, 59, 53, 8]\n"
          ],
          "name": "stdout"
        }
      ]
    },
    {
      "cell_type": "markdown",
      "metadata": {
        "id": "ibLq_zlq8PC3"
      },
      "source": [
        "Методом из библиотеки"
      ]
    },
    {
      "cell_type": "code",
      "metadata": {
        "id": "l6hsNu5X8OVb"
      },
      "source": [
        "X = pd.DataFrame(data.drop(['Class'], axis=1)) # Отбор данных для предикторов, удаление столбца Class\n",
        "y = pd.DataFrame(data['Class']).values.ravel() # Отбор столбца Class для отклика"
      ],
      "execution_count": null,
      "outputs": []
    },
    {
      "cell_type": "markdown",
      "metadata": {
        "id": "cvy-lQqM8gPB"
      },
      "source": [
        "Подключение библиотеки и задание параметров модели: n_neighbors — число соседей; p — используемое расстояние. Манхэттенское расстояние — p=1, евклидово расстояние — p=2. Дополнительные параметры "
      ]
    },
    {
      "cell_type": "code",
      "metadata": {
        "colab": {
          "base_uri": "https://localhost:8080/"
        },
        "id": "VvG9uJfr8b1S",
        "outputId": "61e14d94-9413-4a43-a567-f87c180fe97b"
      },
      "source": [
        "from sklearn.neighbors import KNeighborsClassifier\n",
        "neigh = KNeighborsClassifier(n_neighbors=3, p=2)\n",
        "neigh.fit(X, y)"
      ],
      "execution_count": null,
      "outputs": [
        {
          "output_type": "execute_result",
          "data": {
            "text/plain": [
              "KNeighborsClassifier(algorithm='auto', leaf_size=30, metric='minkowski',\n",
              "                     metric_params=None, n_jobs=None, n_neighbors=3, p=2,\n",
              "                     weights='uniform')"
            ]
          },
          "metadata": {
            "tags": []
          },
          "execution_count": 34
        }
      ]
    },
    {
      "cell_type": "markdown",
      "metadata": {
        "id": "EHCg3Jm68x7q"
      },
      "source": [
        "Назначенный класс:"
      ]
    },
    {
      "cell_type": "code",
      "metadata": {
        "colab": {
          "base_uri": "https://localhost:8080/"
        },
        "id": "SeWTB57G8sb8",
        "outputId": "da3f2973-b262-467a-98fb-4edb35305439"
      },
      "source": [
        "neigh.predict([A])"
      ],
      "execution_count": null,
      "outputs": [
        {
          "output_type": "execute_result",
          "data": {
            "text/plain": [
              "array([1])"
            ]
          },
          "metadata": {
            "tags": []
          },
          "execution_count": 35
        }
      ]
    },
    {
      "cell_type": "markdown",
      "metadata": {
        "id": "R73FXEFM8zcR"
      },
      "source": [
        "Вероятности отнесения к классам 0 и 1 соответственно"
      ]
    },
    {
      "cell_type": "code",
      "metadata": {
        "colab": {
          "base_uri": "https://localhost:8080/"
        },
        "id": "GQo_3J_482RF",
        "outputId": "dac96058-47cb-49cd-aba4-a47d32f39cea"
      },
      "source": [
        "neigh.predict_proba([A])"
      ],
      "execution_count": null,
      "outputs": [
        {
          "output_type": "execute_result",
          "data": {
            "text/plain": [
              "array([[0.33333333, 0.66666667]])"
            ]
          },
          "metadata": {
            "tags": []
          },
          "execution_count": 36
        }
      ]
    },
    {
      "cell_type": "markdown",
      "metadata": {
        "id": "k2F3QBOU89r2"
      },
      "source": [
        "Вывод расстояний до  k  соседей в порядке удаления (первый массив — расстояния, второй — идентификаторы объектов). Обращаем внимание, что метод возвращает индексы ближайших соседей с нуля, что не соответствует индексации в таблице."
      ]
    },
    {
      "cell_type": "code",
      "metadata": {
        "colab": {
          "base_uri": "https://localhost:8080/"
        },
        "id": "7niGhO1D880d",
        "outputId": "b50e0175-8489-4638-83ed-347b5fc8dcf4"
      },
      "source": [
        "neigh.kneighbors([A])"
      ],
      "execution_count": null,
      "outputs": [
        {
          "output_type": "execute_result",
          "data": {
            "text/plain": [
              "(array([[ 6.32455532,  9.05538514, 27.01851217]]), array([[9, 2, 1]]))"
            ]
          },
          "metadata": {
            "tags": []
          },
          "execution_count": 37
        }
      ]
    }
  ]
}