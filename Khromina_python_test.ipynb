{
  "nbformat": 4,
  "nbformat_minor": 0,
  "metadata": {
    "colab": {
      "name": "Khromina_python_test.ipynb",
      "provenance": [],
      "collapsed_sections": [],
      "authorship_tag": "ABX9TyPq622GlUGHfiI4124RQO1I",
      "include_colab_link": true
    },
    "kernelspec": {
      "name": "python3",
      "display_name": "Python 3"
    },
    "language_info": {
      "name": "python"
    }
  },
  "cells": [
    {
      "cell_type": "markdown",
      "metadata": {
        "id": "view-in-github",
        "colab_type": "text"
      },
      "source": [
        "<a href=\"https://colab.research.google.com/github/MKhromina/test_task/blob/main/Khromina_python_test.ipynb\" target=\"_parent\"><img src=\"https://colab.research.google.com/assets/colab-badge.svg\" alt=\"Open In Colab\"/></a>"
      ]
    },
    {
      "cell_type": "code",
      "metadata": {
        "id": "9oMVMxxJR6RB"
      },
      "source": [
        "import pandas as pd\n",
        "\n",
        "def statistic (data):\n",
        "  df = pd.read_csv(data)\n",
        "  a = df.astype('object').describe() \n",
        "  a = a.drop('count')\n",
        "  a = a.append(pd.Series(df.var(), name='var'))\n",
        "  a = a.append(pd.DataFrame(df.describe()))\n",
        "  a = a.append(pd.Series(df.max()-df.min(), name='range'))\n",
        "  a = a.append(pd.Series(df.dtypes, name='types'))\n",
        "  a = a.append(pd.Series(df.median(), name='median'))\n",
        "  a = a.append(pd.Series(df.isna().sum(), name='number of NaN'))\n",
        "  a = a.append(pd.Series(df.isnull().sum(), name='number of null'))\n",
        "  a = a.append(pd.Series(df.std()/df.mean(), name='coefficient of variation'))\n",
        "  a = a.fillna('not number')\n",
        "\n",
        "  return a.to_excel('output.xlsx')"
      ],
      "execution_count": null,
      "outputs": []
    }
  ]
}