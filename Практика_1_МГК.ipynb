{
  "nbformat": 4,
  "nbformat_minor": 0,
  "metadata": {
    "colab": {
      "name": "Практика_1_МГК.ipynb",
      "provenance": [],
      "authorship_tag": "ABX9TyPHZYimGJvgGY0+G7FfZ4jW",
      "include_colab_link": true
    },
    "kernelspec": {
      "name": "python3",
      "display_name": "Python 3"
    }
  },
  "cells": [
    {
      "cell_type": "markdown",
      "metadata": {
        "id": "view-in-github",
        "colab_type": "text"
      },
      "source": [
        "<a href=\"https://colab.research.google.com/github/MKhromina/test_task/blob/main/%D0%9F%D1%80%D0%B0%D0%BA%D1%82%D0%B8%D0%BA%D0%B0_1_%D0%9C%D0%93%D0%9A.ipynb\" target=\"_parent\"><img src=\"https://colab.research.google.com/assets/colab-badge.svg\" alt=\"Open In Colab\"/></a>"
      ]
    },
    {
      "cell_type": "markdown",
      "metadata": {
        "id": "6tOan0Xctgea"
      },
      "source": [
        "# Упражнение 1.1\n",
        "\n",
        "\n",
        "Данные описывают 60 объектов, каждый из которых обладает 10 признаками.Задача, используя метод главных компонент, перейти к новым координатам и найти следующие параметры."
      ]
    },
    {
      "cell_type": "code",
      "metadata": {
        "id": "VubiATlj8Wys"
      },
      "source": [
        "# подключение библиотек\n",
        "from google.colab import files\n",
        "import numpy as np\n",
        "import pandas as pd\n",
        "from sklearn.decomposition import PCA\n",
        "import matplotlib\n",
        "import matplotlib.pyplot as plt\n",
        "%matplotlib inline"
      ],
      "execution_count": null,
      "outputs": []
    },
    {
      "cell_type": "code",
      "metadata": {
        "colab": {
          "resources": {
            "http://localhost:8080/nbextensions/google.colab/files.js": {
              "data": "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",
              "ok": true,
              "headers": [
                [
                  "content-type",
                  "application/javascript"
                ]
              ],
              "status": 200,
              "status_text": ""
            }
          },
          "base_uri": "https://localhost:8080/",
          "height": 70
        },
        "id": "1n7Mu5UW8eN-",
        "outputId": "bbe18d1d-c7ab-484f-fffa-6661224d9232"
      },
      "source": [
        "data=files.upload()"
      ],
      "execution_count": null,
      "outputs": [
        {
          "output_type": "display_data",
          "data": {
            "text/html": [
              "\n",
              "     <input type=\"file\" id=\"files-21cfee34-0069-4ded-a38a-7a2b4bdb827e\" name=\"files[]\" multiple disabled\n",
              "        style=\"border:none\" />\n",
              "     <output id=\"result-21cfee34-0069-4ded-a38a-7a2b4bdb827e\">\n",
              "      Upload widget is only available when the cell has been executed in the\n",
              "      current browser session. Please rerun this cell to enable.\n",
              "      </output>\n",
              "      <script src=\"/nbextensions/google.colab/files.js\"></script> "
            ],
            "text/plain": [
              "<IPython.core.display.HTML object>"
            ]
          },
          "metadata": {
            "tags": []
          }
        },
        {
          "output_type": "stream",
          "text": [
            "Saving Практика_продвинутое_1.csv to Практика_продвинутое_1 (1).csv\n"
          ],
          "name": "stdout"
        }
      ]
    },
    {
      "cell_type": "code",
      "metadata": {
        "id": "DoASCl268wlc"
      },
      "source": [
        "data = pd.read_csv('Практика_продвинутое_1.csv',  header=None)\n"
      ],
      "execution_count": null,
      "outputs": []
    },
    {
      "cell_type": "code",
      "metadata": {
        "colab": {
          "base_uri": "https://localhost:8080/",
          "height": 190
        },
        "id": "en_YnkWg9N-s",
        "outputId": "65212d17-6529-4070-f886-21442d60aae7"
      },
      "source": [
        "data.head() # посмотрим на первые 5 из 60 значений"
      ],
      "execution_count": null,
      "outputs": [
        {
          "output_type": "execute_result",
          "data": {
            "text/html": [
              "<div>\n",
              "<style scoped>\n",
              "    .dataframe tbody tr th:only-of-type {\n",
              "        vertical-align: middle;\n",
              "    }\n",
              "\n",
              "    .dataframe tbody tr th {\n",
              "        vertical-align: top;\n",
              "    }\n",
              "\n",
              "    .dataframe thead th {\n",
              "        text-align: right;\n",
              "    }\n",
              "</style>\n",
              "<table border=\"1\" class=\"dataframe\">\n",
              "  <thead>\n",
              "    <tr style=\"text-align: right;\">\n",
              "      <th></th>\n",
              "      <th>0</th>\n",
              "      <th>1</th>\n",
              "      <th>2</th>\n",
              "      <th>3</th>\n",
              "      <th>4</th>\n",
              "      <th>5</th>\n",
              "      <th>6</th>\n",
              "      <th>7</th>\n",
              "      <th>8</th>\n",
              "      <th>9</th>\n",
              "    </tr>\n",
              "  </thead>\n",
              "  <tbody>\n",
              "    <tr>\n",
              "      <th>0</th>\n",
              "      <td>-21.759720</td>\n",
              "      <td>12.661154</td>\n",
              "      <td>-4.869926</td>\n",
              "      <td>9.598234</td>\n",
              "      <td>23.449185</td>\n",
              "      <td>0.154820</td>\n",
              "      <td>2.302482</td>\n",
              "      <td>-21.821396</td>\n",
              "      <td>-11.415078</td>\n",
              "      <td>2.151484</td>\n",
              "    </tr>\n",
              "    <tr>\n",
              "      <th>1</th>\n",
              "      <td>1.408364</td>\n",
              "      <td>-6.638400</td>\n",
              "      <td>9.211893</td>\n",
              "      <td>-5.495415</td>\n",
              "      <td>-0.645486</td>\n",
              "      <td>11.878330</td>\n",
              "      <td>-4.853190</td>\n",
              "      <td>21.437183</td>\n",
              "      <td>-15.858709</td>\n",
              "      <td>14.000808</td>\n",
              "    </tr>\n",
              "    <tr>\n",
              "      <th>2</th>\n",
              "      <td>2.616627</td>\n",
              "      <td>23.965814</td>\n",
              "      <td>-13.427229</td>\n",
              "      <td>3.159229</td>\n",
              "      <td>22.770143</td>\n",
              "      <td>-16.722209</td>\n",
              "      <td>1.080627</td>\n",
              "      <td>13.702021</td>\n",
              "      <td>6.303106</td>\n",
              "      <td>-0.961493</td>\n",
              "    </tr>\n",
              "    <tr>\n",
              "      <th>3</th>\n",
              "      <td>-23.049862</td>\n",
              "      <td>13.223549</td>\n",
              "      <td>-3.489613</td>\n",
              "      <td>9.938069</td>\n",
              "      <td>23.477814</td>\n",
              "      <td>-0.379360</td>\n",
              "      <td>0.077757</td>\n",
              "      <td>-24.087916</td>\n",
              "      <td>-11.868835</td>\n",
              "      <td>1.040066</td>\n",
              "    </tr>\n",
              "    <tr>\n",
              "      <th>4</th>\n",
              "      <td>4.397046</td>\n",
              "      <td>24.046032</td>\n",
              "      <td>-10.728164</td>\n",
              "      <td>2.437134</td>\n",
              "      <td>22.975698</td>\n",
              "      <td>-19.245294</td>\n",
              "      <td>1.665254</td>\n",
              "      <td>12.259758</td>\n",
              "      <td>6.068289</td>\n",
              "      <td>-1.225398</td>\n",
              "    </tr>\n",
              "  </tbody>\n",
              "</table>\n",
              "</div>"
            ],
            "text/plain": [
              "           0          1          2  ...          7          8          9\n",
              "0 -21.759720  12.661154  -4.869926  ... -21.821396 -11.415078   2.151484\n",
              "1   1.408364  -6.638400   9.211893  ...  21.437183 -15.858709  14.000808\n",
              "2   2.616627  23.965814 -13.427229  ...  13.702021   6.303106  -0.961493\n",
              "3 -23.049862  13.223549  -3.489613  ... -24.087916 -11.868835   1.040066\n",
              "4   4.397046  24.046032 -10.728164  ...  12.259758   6.068289  -1.225398\n",
              "\n",
              "[5 rows x 10 columns]"
            ]
          },
          "metadata": {
            "tags": []
          },
          "execution_count": 4
        }
      ]
    },
    {
      "cell_type": "code",
      "metadata": {
        "id": "dSu4Wft_ADAC"
      },
      "source": [
        "data_x=np.array(data) #Объекты"
      ],
      "execution_count": null,
      "outputs": []
    },
    {
      "cell_type": "markdown",
      "metadata": {
        "id": "y1640JTc_OUz"
      },
      "source": [
        "Уменьшим размерность при помощи библиотеки sklearn. Отдельного внимания заслуживает параметр svd_solver, он отвечает за метод оптимизации.\n",
        "Дело в том, что в Python оптимизационные задачи решаются численно. При этом могут использоваться различные алгоритмы, а значит результаты могут несколько отличаться. Поэтому, чтобы получать одинаковые результаты, нужно использовать параметры модели"
      ]
    },
    {
      "cell_type": "markdown",
      "metadata": {
        "id": "owL6tUKtO9BP"
      },
      "source": [
        "**Введите координату первого объекта относительно первой главной компоненты.**\n",
        "\n",
        "**Введите координату первого объекта относительно второй главной компоненты.**"
      ]
    },
    {
      "cell_type": "code",
      "metadata": {
        "id": "LHV8XqwvCacc"
      },
      "source": [
        "pca = PCA(n_components=2, svd_solver='full') #Создание объекта класса PCA. В качестве параметров выступает количество ГК и метод оптимизации\n",
        "X_transformed = pca.fit(data_x).transform(data_x) #X_transformed -- ndarray объектов, где каждый объект описывается двумя ГК"
      ],
      "execution_count": null,
      "outputs": []
    },
    {
      "cell_type": "markdown",
      "metadata": {
        "id": "j5MHtSmZPEgH"
      },
      "source": [
        "координаты первого столбца первой строки соответствуют  координате первого объекта относительно первой главной компоненты.\n",
        "\n",
        "координаты второго столбца первой строки соответствуют  координате первого объекта относительно второй главной компоненты.\n"
      ]
    },
    {
      "cell_type": "code",
      "metadata": {
        "colab": {
          "base_uri": "https://localhost:8080/"
        },
        "id": "oNMUAfQdOkdR",
        "outputId": "0a051bd7-ea3b-47c2-862a-88cfdfc215f3"
      },
      "source": [
        "X_transformed[0:3] # вывод первых трех объектов"
      ],
      "execution_count": null,
      "outputs": [
        {
          "output_type": "execute_result",
          "data": {
            "text/plain": [
              "array([[-32.31442582,  -4.26100973],\n",
              "       [ -1.80203582,  34.00467314],\n",
              "       [-17.86202529, -23.6605852 ]])"
            ]
          },
          "metadata": {
            "tags": []
          },
          "execution_count": 7
        }
      ]
    },
    {
      "cell_type": "markdown",
      "metadata": {
        "id": "AWaydoVIQoD3"
      },
      "source": [
        "**Какое количество групп объектов можно выделить, если использовать только первые две главных компоненты?**\n"
      ]
    },
    {
      "cell_type": "code",
      "metadata": {
        "colab": {
          "base_uri": "https://localhost:8080/",
          "height": 284
        },
        "id": "Hw5k9P0qQf1f",
        "outputId": "ba9c5a78-cb7b-4572-87b8-02cf863ca955"
      },
      "source": [
        "plt.plot(X_transformed[:60, 0], X_transformed[:60, 1], 'o', markerfacecolor='red', markeredgecolor='k', markersize=8)"
      ],
      "execution_count": null,
      "outputs": [
        {
          "output_type": "execute_result",
          "data": {
            "text/plain": [
              "[<matplotlib.lines.Line2D at 0x7effce12c190>]"
            ]
          },
          "metadata": {
            "tags": []
          },
          "execution_count": 8
        },
        {
          "output_type": "display_data",
          "data": {
            "image/png": "[encoded data removed]",
            "text/plain": [
              "<Figure size 432x288 with 1 Axes>"
            ]
          },
          "metadata": {
            "tags": [],
            "needs_background": "light"
          }
        }
      ]
    },
    {
      "cell_type": "markdown",
      "metadata": {
        "id": "XpyimZufPfNw"
      },
      "source": [
        "**Введите долю объясненной дисперсии при использовании первых двух главных компонент.**"
      ]
    },
    {
      "cell_type": "code",
      "metadata": {
        "colab": {
          "base_uri": "https://localhost:8080/"
        },
        "id": "jesRNvvhCkgj",
        "outputId": "2ffaef53-a8b0-465c-bc20-56bd194de065"
      },
      "source": [
        "explained_variance = np.round(np.cumsum(pca.explained_variance_ratio_),3)\n",
        "explained_variance # доля объясненной дисперсии при использовании первых двух главных компонент - второе значение массива"
      ],
      "execution_count": null,
      "outputs": [
        {
          "output_type": "execute_result",
          "data": {
            "text/plain": [
              "array([0.421, 0.69 ])"
            ]
          },
          "metadata": {
            "tags": []
          },
          "execution_count": 9
        }
      ]
    },
    {
      "cell_type": "markdown",
      "metadata": {
        "id": "okB1FsvsQJiP"
      },
      "source": [
        "**Какое минимальное количество главных компонент необходимо использовать, чтобы доля объясненной дисперсии превышала 0.85**\n"
      ]
    },
    {
      "cell_type": "code",
      "metadata": {
        "id": "w7u69geqQGop"
      },
      "source": [
        "pca_2 = PCA(n_components=10, svd_solver='full') #Создание объекта класса PCA. В качестве параметров выступает количество ГК и метод оптимизации\n",
        "X_full = pca_2.fit(data_x).transform(data_x) #X_full -- ndarray объектов, где каждый объект описывается всеми (10-ю) ГК"
      ],
      "execution_count": null,
      "outputs": []
    },
    {
      "cell_type": "code",
      "metadata": {
        "colab": {
          "base_uri": "https://localhost:8080/"
        },
        "id": "HXc2HAOpRmL_",
        "outputId": "75391073-87bd-4f79-8caa-01e311aa89ea"
      },
      "source": [
        "explained_variance_2 = np.round(np.cumsum(pca_2.explained_variance_ratio_),3)\n",
        "explained_variance_2 # доля объявленной дисперсии для i-той главной компоненты"
      ],
      "execution_count": null,
      "outputs": [
        {
          "output_type": "execute_result",
          "data": {
            "text/plain": [
              "array([0.421, 0.69 , 0.931, 0.992, 0.994, 0.996, 0.997, 0.998, 0.999,\n",
              "       1.   ])"
            ]
          },
          "metadata": {
            "tags": []
          },
          "execution_count": 11
        }
      ]
    },
    {
      "cell_type": "code",
      "metadata": {
        "colab": {
          "base_uri": "https://localhost:8080/",
          "height": 282
        },
        "id": "awdYIHILCp4T",
        "outputId": "552ba74f-6269-4ee5-ab24-ffbb9faf886c"
      },
      "source": [
        "plt.plot(np.arange(10), explained_variance_2, ls = '-')"
      ],
      "execution_count": null,
      "outputs": [
        {
          "output_type": "execute_result",
          "data": {
            "text/plain": [
              "[<matplotlib.lines.Line2D at 0x7effcdc8ed10>]"
            ]
          },
          "metadata": {
            "tags": []
          },
          "execution_count": 12
        },
        {
          "output_type": "display_data",
          "data": {
            "image/png": "[encoded data removed]",
            "text/plain": [
              "<Figure size 432x288 with 1 Axes>"
            ]
          },
          "metadata": {
            "tags": [],
            "needs_background": "light"
          }
        }
      ]
    },
    {
      "cell_type": "markdown",
      "metadata": {
        "id": "kwzJaZr0VrNf"
      },
      "source": [
        "# моё"
      ]
    },
    {
      "cell_type": "code",
      "metadata": {
        "id": "qv4CJhsdN90x"
      },
      "source": [
        "  F=np.array(data-data.mean()) # центрируем матрицу объектов"
      ],
      "execution_count": null,
      "outputs": []
    },
    {
      "cell_type": "code",
      "metadata": {
        "id": "DFMcrhAjt-gr"
      },
      "source": [
        "O=1/len(F)*(np.dot(F.transpose(), F)) # находим выборочную ковариационную матрицу"
      ],
      "execution_count": null,
      "outputs": []
    },
    {
      "cell_type": "code",
      "metadata": {
        "id": "XBLVG6XVuFBS"
      },
      "source": [
        "L, w = np.linalg.eigh(O) # Находим собственные числа  и собственные векторы матрицы О в порядке возрастания\n"
      ],
      "execution_count": null,
      "outputs": []
    },
    {
      "cell_type": "code",
      "metadata": {
        "id": "VTLSi2lnaaNR"
      },
      "source": [
        "L = L/L.sum()\n",
        "L=L[::-1]\n",
        "for i in range(len(L)-1):\n",
        "  L[i+1]+=L[i]\n"
      ],
      "execution_count": null,
      "outputs": []
    },
    {
      "cell_type": "code",
      "metadata": {
        "colab": {
          "base_uri": "https://localhost:8080/"
        },
        "id": "B24K7N5AbgtP",
        "outputId": "99a0b567-f6dd-4766-ea15-5ef30d3239a5"
      },
      "source": [
        "L # np.cumsum(pca_2.explained_variance_ratio_), доля объявленной дисперсии для i-той главной компоненты"
      ],
      "execution_count": null,
      "outputs": [
        {
          "output_type": "execute_result",
          "data": {
            "text/plain": [
              "array([0.42071537, 0.69016485, 0.93124624, 0.99212525, 0.99412846,\n",
              "       0.99594095, 0.99740946, 0.99845003, 0.99943979, 1.        ])"
            ]
          },
          "metadata": {
            "tags": []
          },
          "execution_count": 192
        }
      ]
    },
    {
      "cell_type": "code",
      "metadata": {
        "id": "lNhTl68rCsd8"
      },
      "source": [
        "Z=np.dot(F,w[::-1]) # Находим новые координаты (счеты) объектов в выбраном базисе\n",
        "# w[::-1] - чтобы изменить порядок  на \"по возрастанию\", чтобы уменьшить ошибку MSE, т.к она = sum(L)"
      ],
      "execution_count": null,
      "outputs": []
    },
    {
      "cell_type": "markdown",
      "metadata": {
        "id": "DTv97BMrjpIN"
      },
      "source": [
        "**Значения Z должны быть равны значениям X_full ?**"
      ]
    },
    {
      "cell_type": "code",
      "metadata": {
        "colab": {
          "base_uri": "https://localhost:8080/"
        },
        "id": "kkQul4ULPefJ",
        "outputId": "d99a8c86-ae44-4f3a-9031-b0387bef51ac"
      },
      "source": [
        "Z"
      ],
      "execution_count": null,
      "outputs": [
        {
          "output_type": "execute_result",
          "data": {
            "text/plain": [
              "array([[ -3.63593707,  10.06991154, -10.58344753,   2.56978931,\n",
              "          9.74855822,  20.23583508,  19.30227047, -11.92017563,\n",
              "          0.45828104, -16.61860259],\n",
              "       [ -2.23071333,  12.32179568, -13.84893698,   8.50061197,\n",
              "         -9.53454489,  -8.89579231,  -8.17138402,  22.84783437,\n",
              "        -21.68204158,   3.60068674],\n",
              "       [  7.89938401,   9.91320513,  18.24567712,   2.44905625,\n",
              "          9.12063553, -17.15973718,   2.98082875, -11.94741294,\n",
              "         -7.60900359, -20.42652033],\n",
              "       [ -4.97792739,   8.34393159, -10.86547035,   1.27041452,\n",
              "          9.00830752,  22.02301201,  20.87834035, -11.62523892,\n",
              "          0.89456062, -18.28118616],\n",
              "       [  9.0015026 ,   8.31033598,  19.30819101,   1.55602282,\n",
              "         11.31218851, -16.42437304,   4.0824545 ,  -9.86160658,\n",
              "         -9.20679984, -21.30203273],\n",
              "       [  9.10177586,  -5.2281712 ,  -9.35920213,   3.65714469,\n",
              "         -2.82684179,  11.03050124,   3.04787761,  -3.52878359,\n",
              "          6.76002848,  19.84104478],\n",
              "       [  8.69918017,  -4.72141698,  -8.66200243,  -0.16057049,\n",
              "         -0.94485473,  10.66558598,   5.72095574,  -3.90827706,\n",
              "          8.1106753 ,  16.30435824],\n",
              "       [ -1.5724031 ,  10.02039206, -15.43815752,   7.8671321 ,\n",
              "        -11.35829477,  -9.094987  ,  -8.10707715,  20.75659246,\n",
              "        -17.50153044,   5.35756431],\n",
              "       [ 11.40646391,   8.39877709,  16.14059283,   0.70899216,\n",
              "          7.19251834, -16.29091873,   2.3781383 , -12.49160413,\n",
              "         -8.19384081, -19.7226247 ],\n",
              "       [  1.59711911,  11.67837159, -15.25724266,   6.88468108,\n",
              "        -11.91601085,  -6.70663049,  -6.53457547,  21.30076701,\n",
              "        -18.9603639 ,   2.5456911 ],\n",
              "       [ -6.0104296 ,   6.36424367, -11.03833895,   2.08226683,\n",
              "          5.10176079,  20.81143704,  18.9031216 , -10.98836841,\n",
              "         -0.34884676, -14.85105976],\n",
              "       [-10.50080147, -22.74630126,  15.46370354, -12.97341772,\n",
              "         -4.9008842 ,  -3.99803679, -20.73894985,   6.96509459,\n",
              "         19.29663641,  12.51677392],\n",
              "       [ 10.72344836,   8.89207219,  19.79641222,  -4.54265034,\n",
              "         10.53556628, -19.15895521,   4.82920508,  -9.86933479,\n",
              "         -6.21971198, -18.76151138],\n",
              "       [  0.39081369,   5.94474803, -17.20365778,  10.1440092 ,\n",
              "        -10.3055591 ,  -6.84938236,  -8.44471122,  20.66519192,\n",
              "        -18.62109668,   3.99667431],\n",
              "       [-13.98182584, -24.63844665,  12.5895873 , -14.16264214,\n",
              "         -2.3304778 ,  -6.59531112, -18.543851  ,   6.99983983,\n",
              "         19.30988516,  14.27555699],\n",
              "       [-11.33450663, -23.44861296,  16.80664641, -14.21174105,\n",
              "         -2.74264612,  -4.36728613, -19.16333127,   8.1088215 ,\n",
              "         20.16843568,  12.63291387],\n",
              "       [-10.68370364, -21.35985389,  14.31225891, -12.8785597 ,\n",
              "         -6.17836518,  -5.90782202, -19.1880762 ,   8.49663127,\n",
              "         18.85589353,  12.93874768],\n",
              "       [  6.74066694,  -7.81766797, -10.94763978,   4.47655033,\n",
              "         -1.43486669,  11.47445149,   2.3307082 ,  -1.59119058,\n",
              "         10.05301206,  17.70114846],\n",
              "       [  4.84153517,  -5.13034791, -10.4921099 ,   1.6269895 ,\n",
              "         -1.56935908,  11.80089557,   4.93880747,  -7.34105001,\n",
              "         10.46861389,  17.75869405],\n",
              "       [ -8.89055378,   9.54240202,  -4.02183724,   2.1031435 ,\n",
              "          7.42713912,  19.73292455,  19.60654771, -14.13052577,\n",
              "          1.90317199, -16.19192922],\n",
              "       [  8.10144966,  -3.70901838,  -9.49410133,   1.43088368,\n",
              "         -4.00198974,   9.46108292,   2.64870883,  -4.27280825,\n",
              "         10.9969164 ,  19.06393236],\n",
              "       [ -8.26049406,  11.65084032, -10.58554089,   1.24683741,\n",
              "          9.00179078,  21.68683277,  20.4582493 , -11.83549526,\n",
              "          2.23293522, -15.95287154],\n",
              "       [ -2.00531242,  12.8539849 , -14.68344802,   9.26030301,\n",
              "        -10.2926283 ,  -8.79018609,  -7.95196462,  19.79500535,\n",
              "        -21.76058994,   3.35985117],\n",
              "       [  8.87275384,  -5.42507872, -10.68331424,   3.29644621,\n",
              "         -1.27418125,  12.04776007,   5.80946017,  -2.51691027,\n",
              "         13.45814781,  19.44763711],\n",
              "       [-13.83620557, -23.18626105,  14.96041322, -11.38112547,\n",
              "         -6.42185898,  -7.17475061, -19.05190793,   1.9015923 ,\n",
              "         18.11963242,  10.03384507],\n",
              "       [ 10.47524254,   5.72656665,  18.51191966,   1.11679182,\n",
              "          8.76494083, -15.98957386,   3.44178983,  -8.24730584,\n",
              "         -8.73216343, -17.9092873 ],\n",
              "       [  0.61213659,   7.72839127, -15.24860371,   6.68143464,\n",
              "        -12.56526751,  -7.01347832,  -7.4542761 ,  21.81880935,\n",
              "        -20.72687864,   4.65748767],\n",
              "       [ 10.60199258,   9.35401632,  17.82527538,  -0.53524509,\n",
              "         10.67985866, -20.7944416 ,   2.17512263, -13.32239799,\n",
              "         -7.43448036, -18.76600578],\n",
              "       [  9.61020594,  -3.90245216, -10.22374866,   5.08444492,\n",
              "         -1.60218265,   9.98282006,   3.44114269,  -2.28181935,\n",
              "         10.36673808,  16.3528049 ],\n",
              "       [-10.51484699, -21.37423576,  15.28320801, -15.31880657,\n",
              "         -4.91773356,  -4.57735712, -20.43737353,   4.26334489,\n",
              "         18.30398006,  15.9806946 ],\n",
              "       [  7.07953692,  -4.28223628,  -9.60378862,   3.47818439,\n",
              "         -0.20524407,   8.9736707 ,   3.49443297,  -3.07679931,\n",
              "         10.31097284,  18.20283882],\n",
              "       [ -0.24720434,   8.83791824, -14.73586324,   9.37890748,\n",
              "        -12.2224653 ,  -7.70261838,  -8.38498351,  18.52192244,\n",
              "        -19.43652848,   2.90724245],\n",
              "       [ -1.44377802,   8.45998635, -16.81242768,   8.72940133,\n",
              "        -10.56037259,  -4.51372512,  -6.46046485,  18.34758319,\n",
              "        -23.19355483,   2.91282102],\n",
              "       [ -9.43393216, -22.84048339,  15.15422213, -14.65261782,\n",
              "         -3.44516803,  -5.35509131, -19.94416293,   8.20910535,\n",
              "         15.48912329,  12.21958584],\n",
              "       [ -4.78657791,   8.47921349,  -6.11235877,   1.94273742,\n",
              "          8.31653919,  18.98417242,  21.6009318 , -11.40793583,\n",
              "         -1.91958329, -15.78207478],\n",
              "       [-11.43255789, -22.21183492,  17.22399822, -13.25155012,\n",
              "         -4.7202965 ,  -7.8788487 , -20.68106639,   6.01800293,\n",
              "         17.11436106,  14.85165488],\n",
              "       [-11.43674587, -21.78434643,  15.09235148, -14.11278577,\n",
              "         -3.85488273,  -8.55150576, -18.79210851,   6.71706015,\n",
              "         18.51022139,  11.76823211],\n",
              "       [  7.98919759,  -2.99482707, -11.71851349,   1.89235942,\n",
              "         -3.76158011,   8.16728766,   3.21325897,  -4.81871952,\n",
              "         11.05318203,  17.93384032],\n",
              "       [-11.63287178, -22.71730279,  16.27307306, -14.16004815,\n",
              "         -5.34718508,  -5.9830831 , -18.51540767,   6.44532538,\n",
              "         18.77023831,  11.94852246],\n",
              "       [  9.05919922,  -3.48893231,  -6.9089988 ,   0.67091148,\n",
              "         -3.79802458,  10.16131277,   3.08739942,  -3.33726513,\n",
              "         10.2750418 ,  19.12440813],\n",
              "       [ -1.20769193,   8.61713949, -17.27914508,   9.20573309,\n",
              "        -10.91600217,  -8.29654082, -10.28182731,  19.95906916,\n",
              "        -21.79754863,   5.37034826],\n",
              "       [ 10.234951  ,   6.6456701 ,  20.10283498,  -1.15423898,\n",
              "         10.1479602 , -18.19954437,   1.14751453,  -9.46198545,\n",
              "         -5.85295807, -16.44831222],\n",
              "       [  6.32832373,  -5.37557056, -10.06766937,   1.27214429,\n",
              "         -2.56612716,   6.32025289,   1.52220567,  -3.62411111,\n",
              "          8.74180014,  19.29451931],\n",
              "       [  0.49171587,   8.91360495, -16.75942911,   9.45460275,\n",
              "        -10.98814147,  -5.99648701,  -6.64172498,  18.61082719,\n",
              "        -18.95869205,   2.74961602],\n",
              "       [ 10.88409225,   6.7397055 ,  16.9855209 ,  -0.32109375,\n",
              "         12.55443073, -16.30401914,   1.99870174, -10.71153854,\n",
              "         -9.10551816, -16.96083806],\n",
              "       [ 12.88890504,   7.88329432,  21.00081479,   2.70405671,\n",
              "          9.06641283, -17.04393509,   3.54482313, -13.83904155,\n",
              "        -10.06193006, -17.76556315],\n",
              "       [  8.56055289,  -5.80469393,  -9.28277658,   0.09080808,\n",
              "         -0.3307421 ,   9.78862449,   4.83008653,  -4.86701516,\n",
              "         10.58253104,  15.48490008],\n",
              "       [ -6.33036767,   7.21950369,  -6.66203349,   2.66922312,\n",
              "          5.02975426,  21.91843839,  22.35373712,  -9.98405653,\n",
              "         -0.72479535, -16.87110825],\n",
              "       [ -6.73617298,  11.3919345 ,  -7.38753099,   3.76588045,\n",
              "          7.0265749 ,  21.77026865,  20.73649938, -13.00793505,\n",
              "         -1.04085898, -15.76379917],\n",
              "       [ -7.64132388,   8.90683135,  -9.27692551,   3.05306416,\n",
              "          6.63024418,  22.33978765,  19.70459264, -11.01158805,\n",
              "          2.91252913, -15.79555404],\n",
              "       [  9.96871615,   9.3330726 ,  18.38731337,  -1.1894185 ,\n",
              "          9.86384988, -17.974312  ,   3.27764689, -13.4058492 ,\n",
              "         -7.83082411, -16.18614209],\n",
              "       [-11.62899269, -22.60180478,  14.05632995,  -9.99099872,\n",
              "         -2.54510957,  -7.00532409, -20.6121637 ,   5.89785517,\n",
              "         17.09034443,  13.15909511],\n",
              "       [-10.87975487, -21.70713208,  15.61019345, -12.38442571,\n",
              "         -5.25789933,  -7.34912268, -21.07005919,   5.6860067 ,\n",
              "         16.40601359,  14.29427115],\n",
              "       [ 12.56978472,   9.70580346,  16.79775959,  -2.85471682,\n",
              "         11.73518595, -17.65881508,   4.65217613,  -9.91065236,\n",
              "         -6.89644519, -20.34549201],\n",
              "       [ -1.03133207,  12.41819295, -16.27014688,   9.39299629,\n",
              "        -12.59926171,  -7.60503301,  -7.39117205,  22.60108375,\n",
              "        -21.34562939,   5.69542915],\n",
              "       [ -1.49675141,   7.47090526, -14.91974496,  10.81530227,\n",
              "        -10.0525122 ,  -7.68608088,  -7.07398685,  21.11583255,\n",
              "        -20.95051462,   3.18177702],\n",
              "       [  8.4765463 ,   8.75010372,  19.66083581,  -1.56774948,\n",
              "         10.18928111, -19.07203823,   3.44479057, -13.98959961,\n",
              "         -8.63755469, -18.17874224],\n",
              "       [ -5.81613012,  10.61806169,  -6.06100088,   2.31206268,\n",
              "          7.60922381,  22.41002924,  19.82423644, -10.14858589,\n",
              "         -1.31492526, -17.72771603],\n",
              "       [ -8.30332481,   9.58025876,  -7.84564088,   3.30852045,\n",
              "          7.98333104,  21.60947562,  21.06870242, -11.27289199,\n",
              "         -0.09741054, -17.72046251],\n",
              "       [ -3.28602142,  11.41184298,  -9.24833893,   3.65356057,\n",
              "          6.24350922,  22.56868549,  23.16114074, -12.49332313,\n",
              "         -0.85128352, -15.13577341]])"
            ]
          },
          "metadata": {
            "tags": []
          },
          "execution_count": 213
        }
      ]
    },
    {
      "cell_type": "markdown",
      "metadata": {
        "id": "ePXKiw4KuK3h"
      },
      "source": [
        "# Упражнение 1.2\n",
        "Для прохода на новогодний корпоратив в ИТМО при входе нужно отгадать «логотип мероприятия». Для получения изображения логотипа необходимо по первым десяти главным компонентам восстановить исходное изображение (в качестве пригласительных рассылались матрица счётов и матрица весов первых десяти ГК).\n"
      ]
    },
    {
      "cell_type": "code",
      "metadata": {
        "colab": {
          "resources": {
            "http://localhost:8080/nbextensions/google.colab/files.js": {
              "data": "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",
              "ok": true,
              "headers": [
                [
                  "content-type",
                  "application/javascript"
                ]
              ],
              "status": 200,
              "status_text": ""
            }
          },
          "base_uri": "https://localhost:8080/",
          "height": 104
        },
        "id": "gXX8GvNruYrM",
        "outputId": "0c7e9ee3-98d9-4c35-81d8-cdbe50abf9b5"
      },
      "source": [
        "data=files.upload()\n",
        "#Создание массивов Numpy на основе матриц счётов и весов\n",
        "scores = np.genfromtxt('X_reduced_pr_1_2.csv', delimiter=';')\n",
        "loadings = np.genfromtxt('X_loadings_pr_1_2.csv', delimiter=';')\n"
      ],
      "execution_count": null,
      "outputs": [
        {
          "output_type": "display_data",
          "data": {
            "text/html": [
              "\n",
              "     <input type=\"file\" id=\"files-7c834c35-cc2c-4f23-8b92-524d6da15695\" name=\"files[]\" multiple disabled\n",
              "        style=\"border:none\" />\n",
              "     <output id=\"result-7c834c35-cc2c-4f23-8b92-524d6da15695\">\n",
              "      Upload widget is only available when the cell has been executed in the\n",
              "      current browser session. Please rerun this cell to enable.\n",
              "      </output>\n",
              "      <script src=\"/nbextensions/google.colab/files.js\"></script> "
            ],
            "text/plain": [
              "<IPython.core.display.HTML object>"
            ]
          },
          "metadata": {
            "tags": []
          }
        },
        {
          "output_type": "stream",
          "text": [
            "Saving X_loadings_681.csv to X_loadings_681.csv\n",
            "Saving X_reduced_681.csv to X_reduced_681.csv\n"
          ],
          "name": "stdout"
        }
      ]
    },
    {
      "cell_type": "markdown",
      "metadata": {
        "id": "al0Y94WGufax"
      },
      "source": [
        "Найдем матрицу восстановленных данных как произведение матрицы счётов на транспонированную матрицу весов.\n",
        "\n",
        "F=ZФ^T (Ф - транспонированная матрица)"
      ]
    },
    {
      "cell_type": "code",
      "metadata": {
        "id": "GjA-QsjbugJ3"
      },
      "source": [
        "values = np.dot(scores,loadings.T)"
      ],
      "execution_count": null,
      "outputs": []
    },
    {
      "cell_type": "markdown",
      "metadata": {
        "id": "SZqWDqxnujPP"
      },
      "source": [
        "Создадим изображение на основе полученных значений при помощи библиотеки matplotlib"
      ]
    },
    {
      "cell_type": "code",
      "metadata": {
        "colab": {
          "base_uri": "https://localhost:8080/",
          "height": 284
        },
        "id": "qbFE_Oikug2Z",
        "outputId": "e67d29b3-b224-4eec-a533-100ee46fc9c2"
      },
      "source": [
        "%matplotlib inline\n",
        "#Создание изображения\n",
        "plt.imshow(values, cmap='Greys_r')"
      ],
      "execution_count": null,
      "outputs": [
        {
          "output_type": "execute_result",
          "data": {
            "text/plain": [
              "<matplotlib.image.AxesImage at 0x7effbf8f3a10>"
            ]
          },
          "metadata": {
            "tags": []
          },
          "execution_count": 218
        },
        {
          "output_type": "display_data",
          "data": {
            "image/png": "[encoded data removed]",
            "text/plain": [
              "<Figure size 432x288 with 1 Axes>"
            ]
          },
          "metadata": {
            "tags": [],
            "needs_background": "light"
          }
        }
      ]
    }
  ]
}